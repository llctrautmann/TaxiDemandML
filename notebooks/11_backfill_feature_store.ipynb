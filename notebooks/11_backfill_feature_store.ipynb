{
 "cells": [
  {
   "cell_type": "code",
   "execution_count": 3,
   "metadata": {},
   "outputs": [],
   "source": [
    "import os\n",
    "from dotenv import load_dotenv\n",
    "from paths import PARENT_DIR\n",
    "from datetime import datetime\n",
    "import pandas as pd\n",
    "from functions import *\n",
    "import hopsworks\n"
   ]
  },
  {
   "cell_type": "code",
   "execution_count": 4,
   "metadata": {},
   "outputs": [
    {
     "name": "stdout",
     "output_type": "stream",
     "text": [
      "m8w73Fjq1MbGVxli.IokHbBvKy1owvJonW4tSHGR2GN1HmrxgTBM3xKbEoOW3VYo9IvPww1BwwI5Nd4hO\n"
     ]
    }
   ],
   "source": [
    "# Preparing the environment and Constants\n",
    "\n",
    "load_dotenv(PARENT_DIR / '.env')\n",
    "PROJECT_NAME = 'nyc_taxi_pred'\n",
    "HWORK_API_KEY = os.environ['HOPSWORK_API_KEY']\n",
    "\n",
    "print(HWORK_API_KEY)"
   ]
  },
  {
   "cell_type": "code",
   "execution_count": 5,
   "metadata": {},
   "outputs": [
    {
     "name": "stdout",
     "output_type": "stream",
     "text": [
      "file is already downloaded and in the data directory.\n",
      "file is already downloaded and in the data directory.\n",
      "file is already downloaded and in the data directory.\n",
      "file is already downloaded and in the data directory.\n",
      "file is already downloaded and in the data directory.\n",
      "file is already downloaded and in the data directory.\n",
      "file is already downloaded and in the data directory.\n",
      "file is already downloaded and in the data directory.\n",
      "file is already downloaded and in the data directory.\n",
      "file is already downloaded and in the data directory.\n",
      "file is already downloaded and in the data directory.\n",
      "file is already downloaded and in the data directory.\n",
      "file is already downloaded and in the data directory.\n",
      "file is already downloaded and in the data directory.\n",
      "file is already downloaded and in the data directory.\n",
      "file is already downloaded and in the data directory.\n",
      "file is already downloaded and in the data directory.\n",
      "file is already downloaded and in the data directory.\n",
      "file is already downloaded and in the data directory.\n",
      "file is already downloaded and in the data directory.\n",
      "file is already downloaded and in the data directory.\n",
      "file is already downloaded and in the data directory.\n",
      "file is already downloaded and in the data directory.\n",
      "file is already downloaded and in the data directory.\n",
      "file is already downloaded and in the data directory.\n",
      "file is already downloaded and in the data directory.\n",
      "file is already downloaded and in the data directory.\n",
      "file is already downloaded and in the data directory.\n",
      "Downloading raw data file: rides_2023-05\n",
      "rides_2023-05 is not available.\n",
      "Downloading raw data file: rides_2023-06\n",
      "rides_2023-06 is not available.\n",
      "Downloading raw data file: rides_2023-07\n",
      "rides_2023-07 is not available.\n",
      "Downloading raw data file: rides_2023-08\n",
      "rides_2023-08 is not available.\n",
      "Downloading raw data file: rides_2023-09\n",
      "rides_2023-09 is not available.\n",
      "Downloading raw data file: rides_2023-10\n",
      "rides_2023-10 is not available.\n",
      "Downloading raw data file: rides_2023-11\n",
      "rides_2023-11 is not available.\n",
      "Downloading raw data file: rides_2023-12\n",
      "rides_2023-12 is not available.\n"
     ]
    }
   ],
   "source": [
    "from_year = 2021\n",
    "to_year = datetime.now().year\n",
    "\n",
    "rides = pd.DataFrame()\n",
    "for year in range(from_year, to_year+1):\n",
    "    rides_one_year = load_raw_data(year)\n",
    "    rides = pd.concat([rides, rides_one_year])\n",
    "\n",
    "\n"
   ]
  },
  {
   "cell_type": "code",
   "execution_count": 6,
   "metadata": {},
   "outputs": [
    {
     "name": "stderr",
     "output_type": "stream",
     "text": [
      "DeprecationWarning: np.find_common_type is deprecated.  Please use `np.result_type` or `np.promote_types`.\n",
      "See https://numpy.org/devdocs/release/1.25.0-notes.html and the docs for more information.  (Deprecated NumPy 1.25)\n",
      "DeprecationWarning: np.find_common_type is deprecated.  Please use `np.result_type` or `np.promote_types`.\n",
      "See https://numpy.org/devdocs/release/1.25.0-notes.html and the docs for more information.  (Deprecated NumPy 1.25)\n",
      "100%|██████████| 263/263 [00:02<00:00, 100.61it/s]\n"
     ]
    }
   ],
   "source": [
    "ts_data = transform_raw_data_into_ts_data(rides)"
   ]
  },
  {
   "cell_type": "code",
   "execution_count": 7,
   "metadata": {},
   "outputs": [
    {
     "name": "stdout",
     "output_type": "stream",
     "text": [
      "Connected. Call `.close()` to terminate connection gracefully.\n",
      "\n",
      "Logged in to project, explore it here https://c.app.hopsworks.ai:443/p/77976\n"
     ]
    }
   ],
   "source": [
    "project = hopsworks.login(project=PROJECT_NAME, api_key_value=HWORK_API_KEY)"
   ]
  },
  {
   "cell_type": "code",
   "execution_count": null,
   "metadata": {},
   "outputs": [],
   "source": []
  },
  {
   "cell_type": "code",
   "execution_count": null,
   "metadata": {},
   "outputs": [],
   "source": []
  }
 ],
 "metadata": {
  "kernelspec": {
   "display_name": ".venv",
   "language": "python",
   "name": "python3"
  },
  "language_info": {
   "codemirror_mode": {
    "name": "ipython",
    "version": 3
   },
   "file_extension": ".py",
   "mimetype": "text/x-python",
   "name": "python",
   "nbconvert_exporter": "python",
   "pygments_lexer": "ipython3",
   "version": "3.10.1"
  },
  "orig_nbformat": 4
 },
 "nbformat": 4,
 "nbformat_minor": 2
}
