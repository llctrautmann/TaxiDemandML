{
 "cells": [
  {
   "cell_type": "code",
   "execution_count": 24,
   "metadata": {},
   "outputs": [],
   "source": [
    "import os\n",
    "from dotenv import load_dotenv\n",
    "from paths import PARENT_DIR\n",
    "from datetime import datetime\n",
    "import pandas as pd\n",
    "from functions import *\n",
    "import hopsworks\n"
   ]
  },
  {
   "cell_type": "code",
   "execution_count": 25,
   "metadata": {},
   "outputs": [],
   "source": [
    "# Preparing the environment and Constants\n",
    "\n",
    "load_dotenv(PARENT_DIR / '.env')\n",
    "PROJECT_NAME = 'nyc_taxi_pred'\n",
    "HWORK_API_KEY = os.environ['HOPSWORK_API_KEY']"
   ]
  },
  {
   "cell_type": "code",
   "execution_count": 26,
   "metadata": {},
   "outputs": [
    {
     "name": "stdout",
     "output_type": "stream",
     "text": [
      "file is already downloaded and in the data directory.\n",
      "file is already downloaded and in the data directory.\n",
      "file is already downloaded and in the data directory.\n",
      "file is already downloaded and in the data directory.\n",
      "file is already downloaded and in the data directory.\n",
      "file is already downloaded and in the data directory.\n",
      "file is already downloaded and in the data directory.\n",
      "file is already downloaded and in the data directory.\n",
      "file is already downloaded and in the data directory.\n",
      "file is already downloaded and in the data directory.\n",
      "file is already downloaded and in the data directory.\n",
      "file is already downloaded and in the data directory.\n",
      "file is already downloaded and in the data directory.\n",
      "file is already downloaded and in the data directory.\n",
      "file is already downloaded and in the data directory.\n",
      "file is already downloaded and in the data directory.\n",
      "file is already downloaded and in the data directory.\n",
      "file is already downloaded and in the data directory.\n",
      "file is already downloaded and in the data directory.\n",
      "file is already downloaded and in the data directory.\n",
      "file is already downloaded and in the data directory.\n",
      "file is already downloaded and in the data directory.\n",
      "file is already downloaded and in the data directory.\n",
      "file is already downloaded and in the data directory.\n",
      "file is already downloaded and in the data directory.\n",
      "file is already downloaded and in the data directory.\n",
      "file is already downloaded and in the data directory.\n",
      "file is already downloaded and in the data directory.\n",
      "file is already downloaded and in the data directory.\n",
      "Downloading raw data file: rides_2023-06\n",
      "rides_2023-06 is not available.\n",
      "Downloading raw data file: rides_2023-07\n",
      "rides_2023-07 is not available.\n",
      "Downloading raw data file: rides_2023-08\n",
      "rides_2023-08 is not available.\n",
      "Downloading raw data file: rides_2023-09\n",
      "rides_2023-09 is not available.\n",
      "Downloading raw data file: rides_2023-10\n",
      "rides_2023-10 is not available.\n",
      "Downloading raw data file: rides_2023-11\n",
      "rides_2023-11 is not available.\n",
      "Downloading raw data file: rides_2023-12\n",
      "rides_2023-12 is not available.\n"
     ]
    }
   ],
   "source": [
    "from_year = 2021\n",
    "to_year = datetime.now().year\n",
    "\n",
    "rides = pd.DataFrame()\n",
    "for year in range(from_year, to_year+1):\n",
    "    rides_one_year = load_raw_data(year)\n",
    "    rides = pd.concat([rides, rides_one_year])\n",
    "\n",
    "\n"
   ]
  },
  {
   "cell_type": "code",
   "execution_count": 27,
   "metadata": {},
   "outputs": [
    {
     "name": "stderr",
     "output_type": "stream",
     "text": [
      "DeprecationWarning: np.find_common_type is deprecated.  Please use `np.result_type` or `np.promote_types`.\n",
      "See https://numpy.org/devdocs/release/1.25.0-notes.html and the docs for more information.  (Deprecated NumPy 1.25)\n",
      "DeprecationWarning: np.find_common_type is deprecated.  Please use `np.result_type` or `np.promote_types`.\n",
      "See https://numpy.org/devdocs/release/1.25.0-notes.html and the docs for more information.  (Deprecated NumPy 1.25)\n",
      "\n",
      "\u001b[A\n",
      "\u001b[A\n",
      "\u001b[A\n",
      "\u001b[A\n",
      "\u001b[A\n",
      "\u001b[A\n",
      "\u001b[A\n",
      "\u001b[A\n",
      "\u001b[A\n",
      "\u001b[A\n",
      "\u001b[A\n",
      "\u001b[A\n",
      "\u001b[A\n",
      "\u001b[A\n",
      "100%|██████████| 263/263 [00:01<00:00, 134.48it/s]\n"
     ]
    }
   ],
   "source": [
    "ts_data = transform_raw_data_into_ts_data(rides)"
   ]
  },
  {
   "cell_type": "code",
   "execution_count": 28,
   "metadata": {},
   "outputs": [
    {
     "name": "stdout",
     "output_type": "stream",
     "text": [
      "Connection closed.\n",
      "Connected. Call `.close()` to terminate connection gracefully.\n",
      "\n",
      "Logged in to project, explore it here https://c.app.hopsworks.ai:443/p/77976\n"
     ]
    }
   ],
   "source": [
    "project = hopsworks.login(\n",
    "    project=PROJECT_NAME,\n",
    "    api_key_value=HWORK_API_KEY\n",
    "    )"
   ]
  },
  {
   "cell_type": "code",
   "execution_count": 29,
   "metadata": {},
   "outputs": [
    {
     "name": "stdout",
     "output_type": "stream",
     "text": [
      "Connected. Call `.close()` to terminate connection gracefully.\n"
     ]
    }
   ],
   "source": [
    "feature_store = project.get_feature_store()"
   ]
  },
  {
   "cell_type": "code",
   "execution_count": 30,
   "metadata": {},
   "outputs": [],
   "source": [
    "FEATURE_GROUP_NAME = \"time_series_hourly_feature_group\"\n",
    "FEATURE_GROUP_VERSION = 1"
   ]
  },
  {
   "cell_type": "code",
   "execution_count": 31,
   "metadata": {},
   "outputs": [],
   "source": [
    "# Create feature group\n",
    "\n",
    "feature_group = feature_store.get_or_create_feature_group(\n",
    "    name=FEATURE_GROUP_NAME,\n",
    "    version=FEATURE_GROUP_VERSION,\n",
    "    description='time-series data at hourly frequency',\n",
    "    primary_key=['pickup_location_id', 'pickup_hour'],\n",
    "    event_time='pickup_hour',\n",
    ")"
   ]
  },
  {
   "cell_type": "code",
   "execution_count": 32,
   "metadata": {},
   "outputs": [
    {
     "data": {
      "application/vnd.jupyter.widget-view+json": {
       "model_id": "18eb42de2ab04470be9e9b68380f6b08",
       "version_major": 2,
       "version_minor": 0
      },
      "text/plain": [
       "Uploading Dataframe: 0.00% |          | Rows 0/5560872 | Elapsed Time: 00:00 | Remaining Time: ?"
      ]
     },
     "metadata": {},
     "output_type": "display_data"
    },
    {
     "name": "stderr",
     "output_type": "stream",
     "text": [
      "%4|1690543152.432|TERMINATE|Lucas-MacBook-Pro.local#producer-2| [thrd:app]: Producer terminating with 99999 messages (1424500 bytes) still in queue or transit: use flush() to wait for outstanding message delivery\n"
     ]
    },
    {
     "name": "stdout",
     "output_type": "stream",
     "text": [
      "Launching job: time_series_hourly_feature_group_1_offline_fg_backfill\n",
      "Job started successfully, you can follow the progress at \n",
      "https://c.app.hopsworks.ai/p/77976/jobs/named/time_series_hourly_feature_group_1_offline_fg_backfill/executions\n"
     ]
    },
    {
     "data": {
      "text/plain": [
       "(<hsfs.core.job.Job at 0x29e5ad3c0>, None)"
      ]
     },
     "execution_count": 32,
     "metadata": {},
     "output_type": "execute_result"
    }
   ],
   "source": [
    "feature_group.insert(ts_data,write_options={'wait_for_job':False})"
   ]
  },
  {
   "cell_type": "code",
   "execution_count": null,
   "metadata": {},
   "outputs": [],
   "source": []
  }
 ],
 "metadata": {
  "kernelspec": {
   "display_name": ".venv",
   "language": "python",
   "name": "python3"
  },
  "language_info": {
   "codemirror_mode": {
    "name": "ipython",
    "version": 3
   },
   "file_extension": ".py",
   "mimetype": "text/x-python",
   "name": "python",
   "nbconvert_exporter": "python",
   "pygments_lexer": "ipython3",
   "version": "3.10.1"
  },
  "orig_nbformat": 4
 },
 "nbformat": 4,
 "nbformat_minor": 2
}
