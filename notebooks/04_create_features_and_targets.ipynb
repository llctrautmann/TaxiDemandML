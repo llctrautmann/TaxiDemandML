{
 "cells": [
  {
   "cell_type": "code",
   "execution_count": 1,
   "metadata": {},
   "outputs": [],
   "source": [
    "import pandas as pd\n",
    "import numpy as np\n",
    "from taxiML.data import *\n",
    "from pathlib import Path"
   ]
  },
  {
   "cell_type": "code",
   "execution_count": 2,
   "metadata": {},
   "outputs": [
    {
     "name": "stdout",
     "output_type": "stream",
     "text": [
      "file is already downloaded and in the data directory.\n",
      "file is already downloaded and in the data directory.\n",
      "file is already downloaded and in the data directory.\n",
      "file is already downloaded and in the data directory.\n",
      "file is already downloaded and in the data directory.\n",
      "file is already downloaded and in the data directory.\n",
      "file is already downloaded and in the data directory.\n",
      "file is already downloaded and in the data directory.\n",
      "file is already downloaded and in the data directory.\n",
      "file is already downloaded and in the data directory.\n",
      "file is already downloaded and in the data directory.\n",
      "Downloading raw data file: rides_2022-12\n",
      "rides_2022-12 is not available.\n"
     ]
    },
    {
     "data": {
      "text/html": [
       "<div>\n",
       "<style scoped>\n",
       "    .dataframe tbody tr th:only-of-type {\n",
       "        vertical-align: middle;\n",
       "    }\n",
       "\n",
       "    .dataframe tbody tr th {\n",
       "        vertical-align: top;\n",
       "    }\n",
       "\n",
       "    .dataframe thead th {\n",
       "        text-align: right;\n",
       "    }\n",
       "</style>\n",
       "<table border=\"1\" class=\"dataframe\">\n",
       "  <thead>\n",
       "    <tr style=\"text-align: right;\">\n",
       "      <th></th>\n",
       "      <th>pickup_time</th>\n",
       "      <th>pickup_location</th>\n",
       "    </tr>\n",
       "  </thead>\n",
       "  <tbody>\n",
       "    <tr>\n",
       "      <th>0</th>\n",
       "      <td>2022-01-01 00:35:40</td>\n",
       "      <td>142</td>\n",
       "    </tr>\n",
       "    <tr>\n",
       "      <th>1</th>\n",
       "      <td>2022-01-01 00:33:43</td>\n",
       "      <td>236</td>\n",
       "    </tr>\n",
       "    <tr>\n",
       "      <th>2</th>\n",
       "      <td>2022-01-01 00:53:21</td>\n",
       "      <td>166</td>\n",
       "    </tr>\n",
       "    <tr>\n",
       "      <th>3</th>\n",
       "      <td>2022-01-01 00:25:21</td>\n",
       "      <td>114</td>\n",
       "    </tr>\n",
       "    <tr>\n",
       "      <th>4</th>\n",
       "      <td>2022-01-01 00:36:48</td>\n",
       "      <td>68</td>\n",
       "    </tr>\n",
       "    <tr>\n",
       "      <th>...</th>\n",
       "      <td>...</td>\n",
       "      <td>...</td>\n",
       "    </tr>\n",
       "    <tr>\n",
       "      <th>3252712</th>\n",
       "      <td>2022-11-30 23:17:09</td>\n",
       "      <td>144</td>\n",
       "    </tr>\n",
       "    <tr>\n",
       "      <th>3252713</th>\n",
       "      <td>2022-11-30 23:48:48</td>\n",
       "      <td>45</td>\n",
       "    </tr>\n",
       "    <tr>\n",
       "      <th>3252714</th>\n",
       "      <td>2022-11-30 23:04:36</td>\n",
       "      <td>163</td>\n",
       "    </tr>\n",
       "    <tr>\n",
       "      <th>3252715</th>\n",
       "      <td>2022-11-30 23:18:37</td>\n",
       "      <td>161</td>\n",
       "    </tr>\n",
       "    <tr>\n",
       "      <th>3252716</th>\n",
       "      <td>2022-11-30 23:30:50</td>\n",
       "      <td>74</td>\n",
       "    </tr>\n",
       "  </tbody>\n",
       "</table>\n",
       "<p>36255131 rows × 2 columns</p>\n",
       "</div>"
      ],
      "text/plain": [
       "                pickup_time  pickup_location\n",
       "0       2022-01-01 00:35:40              142\n",
       "1       2022-01-01 00:33:43              236\n",
       "2       2022-01-01 00:53:21              166\n",
       "3       2022-01-01 00:25:21              114\n",
       "4       2022-01-01 00:36:48               68\n",
       "...                     ...              ...\n",
       "3252712 2022-11-30 23:17:09              144\n",
       "3252713 2022-11-30 23:48:48               45\n",
       "3252714 2022-11-30 23:04:36              163\n",
       "3252715 2022-11-30 23:18:37              161\n",
       "3252716 2022-11-30 23:30:50               74\n",
       "\n",
       "[36255131 rows x 2 columns]"
      ]
     },
     "execution_count": 2,
     "metadata": {},
     "output_type": "execute_result"
    }
   ],
   "source": [
    "#########################################\n",
    "# Full data pipeline for the ML project #\n",
    "#########################################\n",
    "\n",
    "# Step 1: Import the data from an external source; this uses the function in data.py called load_raw_data\n",
    "\n",
    "rides = load_raw_data(year=2022, months=None)\n",
    "rides"
   ]
  },
  {
   "cell_type": "code",
   "execution_count": 3,
   "metadata": {},
   "outputs": [
    {
     "name": "stderr",
     "output_type": "stream",
     "text": [
      "100%|██████████| 262/262 [00:04<00:00, 55.32it/s] \n"
     ]
    },
    {
     "name": "stdout",
     "output_type": "stream",
     "text": [
      "                pickup_hour  rides  pickup_location\n",
      "0       2022-01-01 00:00:00     11                4\n",
      "1       2022-01-01 01:00:00     15                4\n",
      "2       2022-01-01 02:00:00     26                4\n",
      "3       2022-01-01 03:00:00      8                4\n",
      "4       2022-01-01 04:00:00      9                4\n",
      "...                     ...    ...              ...\n",
      "2100187 2022-11-30 19:00:00      0              199\n",
      "2100188 2022-11-30 20:00:00      0              199\n",
      "2100189 2022-11-30 21:00:00      0              199\n",
      "2100190 2022-11-30 22:00:00      0              199\n",
      "2100191 2022-11-30 23:00:00      0              199\n",
      "\n",
      "[2100192 rows x 3 columns]\n"
     ]
    }
   ],
   "source": [
    "# Step 2: Create the time series data from the cleaned raw data\n",
    "\n",
    "ts_data = transform_raw_data_into_ts_data(rides=rides)\n",
    "print(ts_data)"
   ]
  },
  {
   "cell_type": "code",
   "execution_count": 4,
   "metadata": {},
   "outputs": [
    {
     "name": "stderr",
     "output_type": "stream",
     "text": [
      "100%|██████████| 262/262 [00:39<00:00,  6.65it/s]"
     ]
    },
    {
     "name": "stdout",
     "output_type": "stream",
     "text": [
      "features.shape=(80172, 674)\n",
      "targets.shape=(80172,)\n"
     ]
    },
    {
     "name": "stderr",
     "output_type": "stream",
     "text": [
      "\n"
     ]
    }
   ],
   "source": [
    "features, targets = transform_ts_data_into_features_and_target(ts_data=ts_data,\n",
    "                                                               input_seq_len=24*28*1, # one month\n",
    "                                                               step_size=24) \n",
    "\n",
    "print(f'{features.shape=}')\n",
    "print(f'{targets.shape=}')"
   ]
  },
  {
   "cell_type": "code",
   "execution_count": 5,
   "metadata": {},
   "outputs": [],
   "source": [
    "tabular_data = features\n",
    "tabular_data['target_rides_next_hour'] = targets\n",
    "tabular_data.to_parquet(CLEANED_DATA_DIR / 'tabular_data.parquet')"
   ]
  }
 ],
 "metadata": {
  "kernelspec": {
   "display_name": "demo-2-SP1cOi-o-py3.10",
   "language": "python",
   "name": "python3"
  },
  "language_info": {
   "codemirror_mode": {
    "name": "ipython",
    "version": 3
   },
   "file_extension": ".py",
   "mimetype": "text/x-python",
   "name": "python",
   "nbconvert_exporter": "python",
   "pygments_lexer": "ipython3",
   "version": "3.10.0"
  },
  "orig_nbformat": 4,
  "vscode": {
   "interpreter": {
    "hash": "52a6c6aa128f8dcb308d0bb82426b6ced2d61db8b4b6226dab94c991be9451a9"
   }
  }
 },
 "nbformat": 4,
 "nbformat_minor": 2
}
